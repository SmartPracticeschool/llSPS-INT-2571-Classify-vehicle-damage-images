{
 "cells": [
  {
   "cell_type": "markdown",
   "metadata": {},
   "source": [
    "# MODEL BUILDING OF CNN TO CLASSIFY THE CAR DAMAGE\n"
   ]
  },
  {
   "cell_type": "code",
   "execution_count": 1,
   "metadata": {},
   "outputs": [
    {
     "name": "stderr",
     "output_type": "stream",
     "text": [
      "Using TensorFlow backend.\n",
      "C:\\Users\\AKHILA\\anaconda3\\lib\\site-packages\\tensorflow\\python\\framework\\dtypes.py:516: FutureWarning: Passing (type, 1) or '1type' as a synonym of type is deprecated; in a future version of numpy, it will be understood as (type, (1,)) / '(1,)type'.\n",
      "  _np_qint8 = np.dtype([(\"qint8\", np.int8, 1)])\n",
      "C:\\Users\\AKHILA\\anaconda3\\lib\\site-packages\\tensorflow\\python\\framework\\dtypes.py:517: FutureWarning: Passing (type, 1) or '1type' as a synonym of type is deprecated; in a future version of numpy, it will be understood as (type, (1,)) / '(1,)type'.\n",
      "  _np_quint8 = np.dtype([(\"quint8\", np.uint8, 1)])\n",
      "C:\\Users\\AKHILA\\anaconda3\\lib\\site-packages\\tensorflow\\python\\framework\\dtypes.py:518: FutureWarning: Passing (type, 1) or '1type' as a synonym of type is deprecated; in a future version of numpy, it will be understood as (type, (1,)) / '(1,)type'.\n",
      "  _np_qint16 = np.dtype([(\"qint16\", np.int16, 1)])\n",
      "C:\\Users\\AKHILA\\anaconda3\\lib\\site-packages\\tensorflow\\python\\framework\\dtypes.py:519: FutureWarning: Passing (type, 1) or '1type' as a synonym of type is deprecated; in a future version of numpy, it will be understood as (type, (1,)) / '(1,)type'.\n",
      "  _np_quint16 = np.dtype([(\"quint16\", np.uint16, 1)])\n",
      "C:\\Users\\AKHILA\\anaconda3\\lib\\site-packages\\tensorflow\\python\\framework\\dtypes.py:520: FutureWarning: Passing (type, 1) or '1type' as a synonym of type is deprecated; in a future version of numpy, it will be understood as (type, (1,)) / '(1,)type'.\n",
      "  _np_qint32 = np.dtype([(\"qint32\", np.int32, 1)])\n",
      "C:\\Users\\AKHILA\\anaconda3\\lib\\site-packages\\tensorflow\\python\\framework\\dtypes.py:525: FutureWarning: Passing (type, 1) or '1type' as a synonym of type is deprecated; in a future version of numpy, it will be understood as (type, (1,)) / '(1,)type'.\n",
      "  np_resource = np.dtype([(\"resource\", np.ubyte, 1)])\n",
      "C:\\Users\\AKHILA\\anaconda3\\lib\\site-packages\\tensorboard\\compat\\tensorflow_stub\\dtypes.py:541: FutureWarning: Passing (type, 1) or '1type' as a synonym of type is deprecated; in a future version of numpy, it will be understood as (type, (1,)) / '(1,)type'.\n",
      "  _np_qint8 = np.dtype([(\"qint8\", np.int8, 1)])\n",
      "C:\\Users\\AKHILA\\anaconda3\\lib\\site-packages\\tensorboard\\compat\\tensorflow_stub\\dtypes.py:542: FutureWarning: Passing (type, 1) or '1type' as a synonym of type is deprecated; in a future version of numpy, it will be understood as (type, (1,)) / '(1,)type'.\n",
      "  _np_quint8 = np.dtype([(\"quint8\", np.uint8, 1)])\n",
      "C:\\Users\\AKHILA\\anaconda3\\lib\\site-packages\\tensorboard\\compat\\tensorflow_stub\\dtypes.py:543: FutureWarning: Passing (type, 1) or '1type' as a synonym of type is deprecated; in a future version of numpy, it will be understood as (type, (1,)) / '(1,)type'.\n",
      "  _np_qint16 = np.dtype([(\"qint16\", np.int16, 1)])\n",
      "C:\\Users\\AKHILA\\anaconda3\\lib\\site-packages\\tensorboard\\compat\\tensorflow_stub\\dtypes.py:544: FutureWarning: Passing (type, 1) or '1type' as a synonym of type is deprecated; in a future version of numpy, it will be understood as (type, (1,)) / '(1,)type'.\n",
      "  _np_quint16 = np.dtype([(\"quint16\", np.uint16, 1)])\n",
      "C:\\Users\\AKHILA\\anaconda3\\lib\\site-packages\\tensorboard\\compat\\tensorflow_stub\\dtypes.py:545: FutureWarning: Passing (type, 1) or '1type' as a synonym of type is deprecated; in a future version of numpy, it will be understood as (type, (1,)) / '(1,)type'.\n",
      "  _np_qint32 = np.dtype([(\"qint32\", np.int32, 1)])\n",
      "C:\\Users\\AKHILA\\anaconda3\\lib\\site-packages\\tensorboard\\compat\\tensorflow_stub\\dtypes.py:550: FutureWarning: Passing (type, 1) or '1type' as a synonym of type is deprecated; in a future version of numpy, it will be understood as (type, (1,)) / '(1,)type'.\n",
      "  np_resource = np.dtype([(\"resource\", np.ubyte, 1)])\n"
     ]
    }
   ],
   "source": [
    "#IMPORTING THE LIBRARIES NEEDED\n",
    "from keras.models import Sequential\n",
    "from keras.layers import Dense\n",
    "from keras.layers import Convolution2D\n",
    "from keras.layers import MaxPooling2D\n",
    "from keras.layers import Flatten"
   ]
  },
  {
   "cell_type": "markdown",
   "metadata": {},
   "source": [
    "# DATA PREPROCESSING"
   ]
  },
  {
   "cell_type": "code",
   "execution_count": 2,
   "metadata": {},
   "outputs": [],
   "source": [
    "#Importing the ImageDataGenerator library and configuring the ImageDataGenerator class\n",
    "from keras.preprocessing.image import ImageDataGenerator\n",
    "train_datagen = ImageDataGenerator(rescale = 1./255,shear_range = 0.2,zoom_range = 0.2,horizontal_flip = True)\n",
    "test_datagen = ImageDataGenerator(rescale = 1./255)"
   ]
  },
  {
   "cell_type": "code",
   "execution_count": 3,
   "metadata": {},
   "outputs": [
    {
     "name": "stdout",
     "output_type": "stream",
     "text": [
      "Found 316 images belonging to 4 classes.\n"
     ]
    }
   ],
   "source": [
    "#Applying the ImageDataGenerator Functionalities to Trainset\n",
    "x_train = train_datagen.flow_from_directory(r\"C:\\Users\\AKHILA\\Desktop\\Cardataset\\Trainset\",target_size = (64,64),batch_size = 32, class_mode = \"categorical\")\n"
   ]
  },
  {
   "cell_type": "code",
   "execution_count": 4,
   "metadata": {},
   "outputs": [
    {
     "name": "stdout",
     "output_type": "stream",
     "text": [
      "Found 175 images belonging to 4 classes.\n"
     ]
    }
   ],
   "source": [
    "##Applying the ImageDataGenerator Functionalities to Testset\n",
    "x_test = test_datagen.flow_from_directory(r\"C:\\Users\\AKHILA\\Desktop\\Cardataset\\Testset\",target_size = (64,64),batch_size = 32, class_mode = \"categorical\")"
   ]
  },
  {
   "cell_type": "markdown",
   "metadata": {},
   "source": [
    "# MODEL BUILDING"
   ]
  },
  {
   "cell_type": "code",
   "execution_count": 5,
   "metadata": {},
   "outputs": [
    {
     "data": {
      "text/plain": [
       "{'dent': 0, 'glass_shatter': 1, 'lights': 2, 'scratch': 3}"
      ]
     },
     "execution_count": 5,
     "metadata": {},
     "output_type": "execute_result"
    }
   ],
   "source": [
    "x_train.class_indices"
   ]
  },
  {
   "cell_type": "code",
   "execution_count": 6,
   "metadata": {},
   "outputs": [
    {
     "name": "stdout",
     "output_type": "stream",
     "text": [
      "WARNING:tensorflow:From C:\\Users\\AKHILA\\anaconda3\\lib\\site-packages\\keras\\backend\\tensorflow_backend.py:74: The name tf.get_default_graph is deprecated. Please use tf.compat.v1.get_default_graph instead.\n",
      "\n"
     ]
    }
   ],
   "source": [
    "#Initalizing the model\n",
    "model = Sequential()"
   ]
  },
  {
   "cell_type": "code",
   "execution_count": 7,
   "metadata": {},
   "outputs": [
    {
     "name": "stdout",
     "output_type": "stream",
     "text": [
      "WARNING:tensorflow:From C:\\Users\\AKHILA\\anaconda3\\lib\\site-packages\\keras\\backend\\tensorflow_backend.py:517: The name tf.placeholder is deprecated. Please use tf.compat.v1.placeholder instead.\n",
      "\n",
      "WARNING:tensorflow:From C:\\Users\\AKHILA\\anaconda3\\lib\\site-packages\\keras\\backend\\tensorflow_backend.py:4138: The name tf.random_uniform is deprecated. Please use tf.random.uniform instead.\n",
      "\n"
     ]
    }
   ],
   "source": [
    "#Adding the convolution layer\n",
    "model.add(Convolution2D(20,(3,3),input_shape = (64,64,3),activation = \"relu\"))"
   ]
  },
  {
   "cell_type": "code",
   "execution_count": 8,
   "metadata": {},
   "outputs": [
    {
     "name": "stdout",
     "output_type": "stream",
     "text": [
      "WARNING:tensorflow:From C:\\Users\\AKHILA\\anaconda3\\lib\\site-packages\\keras\\backend\\tensorflow_backend.py:3976: The name tf.nn.max_pool is deprecated. Please use tf.nn.max_pool2d instead.\n",
      "\n"
     ]
    }
   ],
   "source": [
    "#Max pooling\n",
    "model.add(MaxPooling2D(pool_size = (2,2)))"
   ]
  },
  {
   "cell_type": "code",
   "execution_count": 9,
   "metadata": {},
   "outputs": [],
   "source": [
    "#Flattening the layers\n",
    "model.add(Flatten())"
   ]
  },
  {
   "cell_type": "code",
   "execution_count": 10,
   "metadata": {},
   "outputs": [
    {
     "name": "stderr",
     "output_type": "stream",
     "text": [
      "C:\\Users\\AKHILA\\anaconda3\\lib\\site-packages\\ipykernel_launcher.py:2: UserWarning: Update your `Dense` call to the Keras 2 API: `Dense(units=128, activation=\"relu\", kernel_initializer=\"uniform\")`\n",
      "  \n"
     ]
    }
   ],
   "source": [
    "#Adding the Hidden layer\n",
    "model.add(Dense(units = 128,init = \"uniform\", activation = \"relu\"))"
   ]
  },
  {
   "cell_type": "code",
   "execution_count": 11,
   "metadata": {},
   "outputs": [
    {
     "name": "stderr",
     "output_type": "stream",
     "text": [
      "C:\\Users\\AKHILA\\anaconda3\\lib\\site-packages\\ipykernel_launcher.py:2: UserWarning: Update your `Dense` call to the Keras 2 API: `Dense(units=4, activation=\"softmax\", kernel_initializer=\"uniform\")`\n",
      "  \n"
     ]
    }
   ],
   "source": [
    "#Adding the output layer\n",
    "model.add(Dense(units = 4,init = \"uniform\", activation = \"softmax\"))"
   ]
  },
  {
   "cell_type": "code",
   "execution_count": 12,
   "metadata": {},
   "outputs": [
    {
     "name": "stdout",
     "output_type": "stream",
     "text": [
      "WARNING:tensorflow:From C:\\Users\\AKHILA\\anaconda3\\lib\\site-packages\\keras\\optimizers.py:790: The name tf.train.Optimizer is deprecated. Please use tf.compat.v1.train.Optimizer instead.\n",
      "\n",
      "WARNING:tensorflow:From C:\\Users\\AKHILA\\anaconda3\\lib\\site-packages\\keras\\backend\\tensorflow_backend.py:3295: The name tf.log is deprecated. Please use tf.math.log instead.\n",
      "\n"
     ]
    }
   ],
   "source": [
    "#Configuring the learning process\n",
    "model.compile(optimizer = \"adam\",loss = \"categorical_crossentropy\",metrics = [\"accuracy\"])"
   ]
  },
  {
   "cell_type": "code",
   "execution_count": 13,
   "metadata": {},
   "outputs": [
    {
     "name": "stdout",
     "output_type": "stream",
     "text": [
      "WARNING:tensorflow:From C:\\Users\\AKHILA\\anaconda3\\lib\\site-packages\\tensorflow\\python\\ops\\math_grad.py:1250: add_dispatch_support.<locals>.wrapper (from tensorflow.python.ops.array_ops) is deprecated and will be removed in a future version.\n",
      "Instructions for updating:\n",
      "Use tf.where in 2.0, which has the same broadcast rule as np.where\n",
      "WARNING:tensorflow:From C:\\Users\\AKHILA\\anaconda3\\lib\\site-packages\\keras\\backend\\tensorflow_backend.py:986: The name tf.assign_add is deprecated. Please use tf.compat.v1.assign_add instead.\n",
      "\n",
      "Epoch 1/10\n",
      "15/15 [==============================] - 16s 1s/step - loss: 1.4189 - acc: 0.3098 - val_loss: 1.2997 - val_acc: 0.4059\n",
      "Epoch 2/10\n",
      "15/15 [==============================] - 5s 357ms/step - loss: 1.2047 - acc: 0.4688 - val_loss: 1.2821 - val_acc: 0.3766\n",
      "Epoch 3/10\n",
      "15/15 [==============================] - 5s 351ms/step - loss: 1.0899 - acc: 0.5474 - val_loss: 1.1972 - val_acc: 0.4505\n",
      "Epoch 4/10\n",
      "15/15 [==============================] - 5s 365ms/step - loss: 1.0672 - acc: 0.5203 - val_loss: 1.2208 - val_acc: 0.4435\n",
      "Epoch 5/10\n",
      "15/15 [==============================] - 5s 327ms/step - loss: 1.0127 - acc: 0.5604 - val_loss: 1.2110 - val_acc: 0.5021\n",
      "Epoch 6/10\n",
      "15/15 [==============================] - 5s 345ms/step - loss: 0.9280 - acc: 0.6214 - val_loss: 1.2462 - val_acc: 0.4009\n",
      "Epoch 7/10\n",
      "15/15 [==============================] - 6s 369ms/step - loss: 0.8852 - acc: 0.6306 - val_loss: 1.1380 - val_acc: 0.5188\n",
      "Epoch 8/10\n",
      "15/15 [==============================] - 5s 364ms/step - loss: 0.8446 - acc: 0.6560 - val_loss: 1.2764 - val_acc: 0.4728\n",
      "Epoch 9/10\n",
      "15/15 [==============================] - 6s 386ms/step - loss: 0.7892 - acc: 0.6773 - val_loss: 1.1147 - val_acc: 0.5360\n",
      "Epoch 10/10\n",
      "15/15 [==============================] - 6s 371ms/step - loss: 0.7509 - acc: 0.6849 - val_loss: 1.3882 - val_acc: 0.5063\n"
     ]
    },
    {
     "data": {
      "text/plain": [
       "<keras.callbacks.History at 0x235962c4448>"
      ]
     },
     "execution_count": 13,
     "metadata": {},
     "output_type": "execute_result"
    }
   ],
   "source": [
    "model.fit_generator(x_train,steps_per_epoch = 15 ,epochs = 10,validation_data = x_test,validation_steps =8)"
   ]
  },
  {
   "cell_type": "code",
   "execution_count": 14,
   "metadata": {},
   "outputs": [],
   "source": [
    "from keras.models import load_model\n",
    "from keras.preprocessing import image"
   ]
  },
  {
   "cell_type": "code",
   "execution_count": 15,
   "metadata": {},
   "outputs": [],
   "source": [
    "#Saving the model\n",
    "model.save(\"car.h5\")"
   ]
  },
  {
   "cell_type": "markdown",
   "metadata": {},
   "source": [
    "# TESTING THE MODEL"
   ]
  },
  {
   "cell_type": "code",
   "execution_count": 16,
   "metadata": {},
   "outputs": [],
   "source": [
    "# loading the image to be predicted in the variable img\n",
    "img = image.load_img(r\"C:\\Users\\AKHILA\\Desktop\\dc.jpg\",target_size = (64,64))"
   ]
  },
  {
   "cell_type": "code",
   "execution_count": 17,
   "metadata": {},
   "outputs": [
    {
     "data": {
      "image/png": "[encoded data removed]",
      "text/plain": [
       "<PIL.Image.Image image mode=RGB size=64x64 at 0x23596246688>"
      ]
     },
     "execution_count": 17,
     "metadata": {},
     "output_type": "execute_result"
    }
   ],
   "source": [
    "# resized image(64, 64)\n",
    "img"
   ]
  },
  {
   "cell_type": "code",
   "execution_count": 18,
   "metadata": {},
   "outputs": [],
   "source": [
    "import numpy as np\n",
    "x  = image.img_to_array(img)"
   ]
  },
  {
   "cell_type": "code",
   "execution_count": 19,
   "metadata": {},
   "outputs": [
    {
     "data": {
      "text/plain": [
       "array([[[131., 137., 153.],\n",
       "        [ 67.,  71.,  82.],\n",
       "        [216., 216., 224.],\n",
       "        ...,\n",
       "        [121., 106., 109.],\n",
       "        [ 79.,  68.,  76.],\n",
       "        [ 72.,  67.,  87.]],\n",
       "\n",
       "       [[120., 126., 142.],\n",
       "        [122., 126., 138.],\n",
       "        [ 92.,  92., 104.],\n",
       "        ...,\n",
       "        [ 82.,  72.,  99.],\n",
       "        [ 91.,  85., 113.],\n",
       "        [ 75.,  75., 111.]],\n",
       "\n",
       "       [[140., 145., 164.],\n",
       "        [106., 109., 126.],\n",
       "        [135., 134., 150.],\n",
       "        ...,\n",
       "        [137., 139., 196.],\n",
       "        [101., 106., 161.],\n",
       "        [ 85.,  97., 149.]],\n",
       "\n",
       "       ...,\n",
       "\n",
       "       [[ 67.,  64.,  71.],\n",
       "        [ 69.,  64.,  68.],\n",
       "        [162., 153., 156.],\n",
       "        ...,\n",
       "        [ 35.,  34.,  50.],\n",
       "        [ 24.,  23.,  39.],\n",
       "        [ 29.,  28.,  44.]],\n",
       "\n",
       "       [[ 68.,  65.,  72.],\n",
       "        [ 71.,  66.,  70.],\n",
       "        [173., 164., 167.],\n",
       "        ...,\n",
       "        [ 33.,  32.,  48.],\n",
       "        [ 28.,  27.,  43.],\n",
       "        [ 29.,  28.,  44.]],\n",
       "\n",
       "       [[ 69.,  66.,  73.],\n",
       "        [ 71.,  66.,  70.],\n",
       "        [172., 163., 166.],\n",
       "        ...,\n",
       "        [ 32.,  31.,  47.],\n",
       "        [ 30.,  29.,  45.],\n",
       "        [ 29.,  28.,  44.]]], dtype=float32)"
      ]
     },
     "execution_count": 19,
     "metadata": {},
     "output_type": "execute_result"
    }
   ],
   "source": [
    "x"
   ]
  },
  {
   "cell_type": "code",
   "execution_count": 20,
   "metadata": {},
   "outputs": [
    {
     "data": {
      "text/plain": [
       "(64, 64, 3)"
      ]
     },
     "execution_count": 20,
     "metadata": {},
     "output_type": "execute_result"
    }
   ],
   "source": [
    "x.shape"
   ]
  },
  {
   "cell_type": "code",
   "execution_count": 21,
   "metadata": {},
   "outputs": [],
   "source": [
    "#Expanding the dimension\n",
    "x = np.expand_dims(x,axis = 0)"
   ]
  },
  {
   "cell_type": "code",
   "execution_count": 22,
   "metadata": {},
   "outputs": [
    {
     "data": {
      "text/plain": [
       "(1, 64, 64, 3)"
      ]
     },
     "execution_count": 22,
     "metadata": {},
     "output_type": "execute_result"
    }
   ],
   "source": [
    "x.shape"
   ]
  },
  {
   "cell_type": "code",
   "execution_count": 23,
   "metadata": {},
   "outputs": [
    {
     "data": {
      "text/plain": [
       "array([[[[131., 137., 153.],\n",
       "         [ 67.,  71.,  82.],\n",
       "         [216., 216., 224.],\n",
       "         ...,\n",
       "         [121., 106., 109.],\n",
       "         [ 79.,  68.,  76.],\n",
       "         [ 72.,  67.,  87.]],\n",
       "\n",
       "        [[120., 126., 142.],\n",
       "         [122., 126., 138.],\n",
       "         [ 92.,  92., 104.],\n",
       "         ...,\n",
       "         [ 82.,  72.,  99.],\n",
       "         [ 91.,  85., 113.],\n",
       "         [ 75.,  75., 111.]],\n",
       "\n",
       "        [[140., 145., 164.],\n",
       "         [106., 109., 126.],\n",
       "         [135., 134., 150.],\n",
       "         ...,\n",
       "         [137., 139., 196.],\n",
       "         [101., 106., 161.],\n",
       "         [ 85.,  97., 149.]],\n",
       "\n",
       "        ...,\n",
       "\n",
       "        [[ 67.,  64.,  71.],\n",
       "         [ 69.,  64.,  68.],\n",
       "         [162., 153., 156.],\n",
       "         ...,\n",
       "         [ 35.,  34.,  50.],\n",
       "         [ 24.,  23.,  39.],\n",
       "         [ 29.,  28.,  44.]],\n",
       "\n",
       "        [[ 68.,  65.,  72.],\n",
       "         [ 71.,  66.,  70.],\n",
       "         [173., 164., 167.],\n",
       "         ...,\n",
       "         [ 33.,  32.,  48.],\n",
       "         [ 28.,  27.,  43.],\n",
       "         [ 29.,  28.,  44.]],\n",
       "\n",
       "        [[ 69.,  66.,  73.],\n",
       "         [ 71.,  66.,  70.],\n",
       "         [172., 163., 166.],\n",
       "         ...,\n",
       "         [ 32.,  31.,  47.],\n",
       "         [ 30.,  29.,  45.],\n",
       "         [ 29.,  28.,  44.]]]], dtype=float32)"
      ]
     },
     "execution_count": 23,
     "metadata": {},
     "output_type": "execute_result"
    }
   ],
   "source": [
    "x"
   ]
  },
  {
   "cell_type": "code",
   "execution_count": 24,
   "metadata": {},
   "outputs": [],
   "source": [
    "#Predicting the class the img belongs to\n",
    "pred = model.predict_classes(x)"
   ]
  },
  {
   "cell_type": "code",
   "execution_count": 25,
   "metadata": {},
   "outputs": [
    {
     "data": {
      "text/plain": [
       "array([1], dtype=int64)"
      ]
     },
     "execution_count": 25,
     "metadata": {},
     "output_type": "execute_result"
    }
   ],
   "source": [
    "pred"
   ]
  },
  {
   "cell_type": "code",
   "execution_count": 26,
   "metadata": {},
   "outputs": [],
   "source": [
    "#List of the classes\n",
    "index=[\"dent\",\"glass_shatter\",\"headlight_broken\",\"scratch\"]"
   ]
  },
  {
   "cell_type": "code",
   "execution_count": 27,
   "metadata": {},
   "outputs": [
    {
     "name": "stdout",
     "output_type": "stream",
     "text": [
      "glass_shatter\n"
     ]
    }
   ],
   "source": [
    "import numpy as np\n",
    "x  = image.img_to_array(img)\n",
    "x = np.expand_dims(x,axis = 0)\n",
    "pred = model.predict_classes(x)\n",
    "a = index[pred[0]]\n",
    "print(a)"
   ]
  },
  {
   "cell_type": "code",
   "execution_count": 28,
   "metadata": {},
   "outputs": [],
   "source": [
    "img = image.load_img(r\"C:\\Users\\AKHILA\\Desktop\\sc.jpg\",target_size = (64,64))"
   ]
  },
  {
   "cell_type": "code",
   "execution_count": 29,
   "metadata": {},
   "outputs": [
    {
     "data": {
      "image/png": "[encoded data removed]",
      "text/plain": [
       "<PIL.Image.Image image mode=RGB size=64x64 at 0x23596706748>"
      ]
     },
     "execution_count": 29,
     "metadata": {},
     "output_type": "execute_result"
    }
   ],
   "source": [
    "img"
   ]
  },
  {
   "cell_type": "code",
   "execution_count": 30,
   "metadata": {},
   "outputs": [
    {
     "name": "stdout",
     "output_type": "stream",
     "text": [
      "scratch\n"
     ]
    }
   ],
   "source": [
    "import numpy as np\n",
    "x  = image.img_to_array(img)\n",
    "x = np.expand_dims(x,axis = 0)\n",
    "pred = model.predict_classes(x)\n",
    "x  = image.img_to_array(img)\n",
    "x = np.expand_dims(x,axis = 0)\n",
    "pred = model.predict_classes(x)\n",
    "a = index[pred[0]]\n",
    "print(a)"
   ]
  },
  {
   "cell_type": "code",
   "execution_count": 31,
   "metadata": {},
   "outputs": [],
   "source": [
    "img = image.load_img(r\"C:\\Users\\AKHILA\\Desktop\\g.jpg\",target_size = (64,64))"
   ]
  },
  {
   "cell_type": "code",
   "execution_count": 32,
   "metadata": {},
   "outputs": [
    {
     "data": {
      "image/png": "[encoded data removed]",
      "text/plain": [
       "<PIL.Image.Image image mode=RGB size=64x64 at 0x2359670E548>"
      ]
     },
     "execution_count": 32,
     "metadata": {},
     "output_type": "execute_result"
    }
   ],
   "source": [
    "img"
   ]
  },
  {
   "cell_type": "code",
   "execution_count": 33,
   "metadata": {},
   "outputs": [
    {
     "name": "stdout",
     "output_type": "stream",
     "text": [
      "glass_shatter\n"
     ]
    }
   ],
   "source": [
    "import numpy as np\n",
    "x  = image.img_to_array(img)\n",
    "x = np.expand_dims(x,axis = 0)\n",
    "pred = model.predict_classes(x)\n",
    "x  = image.img_to_array(img)\n",
    "x = np.expand_dims(x,axis = 0)\n",
    "pred = model.predict_classes(x)\n",
    "a = index[pred[0]]\n",
    "print(a)"
   ]
  },
  {
   "cell_type": "code",
   "execution_count": 34,
   "metadata": {},
   "outputs": [],
   "source": [
    "img = image.load_img(r\"C:\\Users\\AKHILA\\Desktop\\hl.jpg\",target_size = (64,64))"
   ]
  },
  {
   "cell_type": "code",
   "execution_count": 35,
   "metadata": {},
   "outputs": [
    {
     "data": {
      "image/png": "[encoded data removed]",
      "text/plain": [
       "<PIL.Image.Image image mode=RGB size=64x64 at 0x2359670EBC8>"
      ]
     },
     "execution_count": 35,
     "metadata": {},
     "output_type": "execute_result"
    }
   ],
   "source": [
    "img"
   ]
  },
  {
   "cell_type": "code",
   "execution_count": 36,
   "metadata": {},
   "outputs": [
    {
     "name": "stdout",
     "output_type": "stream",
     "text": [
      "headlight_broken\n"
     ]
    }
   ],
   "source": [
    "import numpy as np\n",
    "x  = image.img_to_array(img)\n",
    "x = np.expand_dims(x,axis = 0)\n",
    "pred = model.predict_classes(x)\n",
    "x  = image.img_to_array(img)\n",
    "x = np.expand_dims(x,axis = 0)\n",
    "pred = model.predict_classes(x)\n",
    "a = index[pred[0]]\n",
    "print(a)"
   ]
  },
  {
   "cell_type": "code",
   "execution_count": 41,
   "metadata": {},
   "outputs": [],
   "source": [
    "img = image.load_img(r\"C:\\Users\\AKHILA\\Desktop\\d.jpg\",target_size = (64,64))"
   ]
  },
  {
   "cell_type": "code",
   "execution_count": 42,
   "metadata": {},
   "outputs": [
    {
     "data": {
      "image/png": "[encoded data removed]",
      "text/plain": [
       "<PIL.Image.Image image mode=RGB size=64x64 at 0x23596AAAC88>"
      ]
     },
     "execution_count": 42,
     "metadata": {},
     "output_type": "execute_result"
    }
   ],
   "source": [
    "img"
   ]
  },
  {
   "cell_type": "code",
   "execution_count": 43,
   "metadata": {},
   "outputs": [
    {
     "name": "stdout",
     "output_type": "stream",
     "text": [
      "glass_shatter\n"
     ]
    }
   ],
   "source": [
    "import numpy as np\n",
    "x  = image.img_to_array(img)\n",
    "x = np.expand_dims(x,axis = 0)\n",
    "pred = model.predict_classes(x)\n",
    "x  = image.img_to_array(img)\n",
    "x = np.expand_dims(x,axis = 0)\n",
    "pred = model.predict_classes(x)\n",
    "a = index[pred[0]]\n",
    "print(a)\n"
   ]
  },
  {
   "cell_type": "code",
   "execution_count": null,
   "metadata": {},
   "outputs": [],
   "source": []
  },
  {
   "cell_type": "code",
   "execution_count": null,
   "metadata": {},
   "outputs": [],
   "source": []
  }
 ],
 "metadata": {
  "kernelspec": {
   "display_name": "Python 3",
   "language": "python",
   "name": "python3"
  },
  "language_info": {
   "codemirror_mode": {
    "name": "ipython",
    "version": 3
   },
   "file_extension": ".py",
   "mimetype": "text/x-python",
   "name": "python",
   "nbconvert_exporter": "python",
   "pygments_lexer": "ipython3",
   "version": "3.7.6"
  }
 },
 "nbformat": 4,
 "nbformat_minor": 4
}
